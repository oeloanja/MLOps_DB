{
 "cells": [
  {
   "cell_type": "code",
   "execution_count": 1,
   "metadata": {},
   "outputs": [
    {
     "name": "stderr",
     "output_type": "stream",
     "text": [
      "c:\\Users\\user\\anaconda3\\envs\\nlp\\Lib\\site-packages\\sentence_transformers\\cross_encoder\\CrossEncoder.py:11: TqdmWarning: IProgress not found. Please update jupyter and ipywidgets. See https://ipywidgets.readthedocs.io/en/stable/user_install.html\n",
      "  from tqdm.autonotebook import tqdm, trange\n",
      "c:\\Users\\user\\anaconda3\\envs\\nlp\\Lib\\site-packages\\langchain_core\\_api\\deprecation.py:139: LangChainDeprecationWarning: The class `Chroma` was deprecated in LangChain 0.2.9 and will be removed in 0.4. An updated version of the class exists in the langchain-chroma package and should be used instead. To use it run `pip install -U langchain-chroma` and import as `from langchain_chroma import Chroma`.\n",
      "  warn_deprecated(\n"
     ]
    }
   ],
   "source": [
    "import funcsfortool"
   ]
  },
  {
   "cell_type": "code",
   "execution_count": 2,
   "metadata": {},
   "outputs": [
    {
     "data": {
      "text/plain": [
       "'get_simple_screening'"
      ]
     },
     "execution_count": 2,
     "metadata": {},
     "output_type": "execute_result"
    }
   ],
   "source": [
    "funcsfortool.get_simple_screening.name"
   ]
  },
  {
   "cell_type": "code",
   "execution_count": 3,
   "metadata": {},
   "outputs": [
    {
     "data": {
      "text/plain": [
       "'주어진 머신러닝 모델을 이용해 간단한 대출심사를 진행.\\n대출 심사 요청이 왔을때만 실행.\\n예시\\n- 나 대출 가능해?\\n- 나 연봉 5000인데 대출 가능해?\\n- 나 대출 가능한지 봐줘.\\n이런 질문들이 들어왔을 때 income, job_duration, dti, loan_amnt 파라미터를 입력받은 후 이 도구를 사용합니다.\\nincome, job_duration, dti, loan_amnt가 다 입력된 후 도구 실행 해야합니다.\\nArgs:\\n    income:연봉\\n    job_duration:경력\\n    dti:총부채상환비율\\n    loan_amnt:대출 받고자 하는 돈'"
      ]
     },
     "execution_count": 3,
     "metadata": {},
     "output_type": "execute_result"
    }
   ],
   "source": [
    "funcsfortool.get_simple_screening.description"
   ]
  },
  {
   "cell_type": "code",
   "execution_count": 4,
   "metadata": {},
   "outputs": [],
   "source": [
    "simple = funcsfortool.get_simple_screening"
   ]
  },
  {
   "cell_type": "code",
   "execution_count": 5,
   "metadata": {},
   "outputs": [
    {
     "data": {
      "text/plain": [
       "'local retriever'"
      ]
     },
     "execution_count": 5,
     "metadata": {},
     "output_type": "execute_result"
    }
   ],
   "source": [
    "ret = funcsfortool.retrieve()\n",
    "ret.name"
   ]
  },
  {
   "cell_type": "code",
   "execution_count": 6,
   "metadata": {},
   "outputs": [
    {
     "data": {
      "text/plain": [
       "'local retriever'"
      ]
     },
     "execution_count": 6,
     "metadata": {},
     "output_type": "execute_result"
    }
   ],
   "source": [
    "funcsfortool.retrieve().name"
   ]
  },
  {
   "cell_type": "code",
   "execution_count": 7,
   "metadata": {},
   "outputs": [
    {
     "data": {
      "text/plain": [
       "'\\n\\n 금융소비자는 「신용정보의 이용 및 보호에 관한 법률」제36조의2에 따라 자동화 평가의 결과, 자동화 평가의 주요 기준, 자동화 평가의 평가에 이용된 기초정보 등에 대해 설명하여 줄 것을 은행에 요구할 수 있습니다\\n\\n\\n\\n 은행은 다음 어느 하나에 해당하는 경우에는 금융소비자의 요구를 거절할 수 있으며, 기초정보가 정정\\n\\n삭제되었더라도 신용상태의 개선이 경미한 경우, 재평가결과는 기존과 동일할 수 있습니다\\n\\n\\n\\n 자동화평가가 아닌 방식으로 개인의 신용을 평가하는 경우\\n\\n 관련 법령에 특별한 규정이 있거나 법령상 의무를 준수하기 위하여 불가피한 경우\\n\\n 해당 금융소비자의 요구에 따르게 되면 금융거래 등 상거래관계의 설정 및 유지 등이 곤란한 경우\\n\\n 금융소비자가 정정 또는 삭제 요청한 내용이 사실과 다른 경우\\n\\n 정당한 사유 없이 동일한 금융거래 등에 대해 3회 이상 반복적으로 대응권을 행사하는 경우4\\n\\n 대출금리 산정방식 및 결정요인\\n\\n 대출금리 산정방식은 크게 고정금리, 변동금리로 구분되며, 고객님이 신청하신 상품은 [ 고정금리 변동금리,  ] 상품입니다\\n\\n\\n\\n 대출금리 결정(변동) 요인\\n\\n 대출금리는 은행의 자금조달금리에 각종 원가요소와 목표수익률(마진) 등을 반영하여 결정됩니다\\n\\n\\n\\n 대출금리는 변동기준을 명확히 표시하기 위해 일반적으로 대출 기준금리와 가산금리의 합으로 표시됩니다\\n\\n \\n \\n \\n\\x0c\\n\\n\\n\\n 금융소비자는 「신용정보의 이용 및 보호에 관한 법률」제36조의2에 따라 자동화 평가의 결과, 자동화 평가의 주요 기준, 자동화 평가의 평가에 이용된 기초정보 등에 대해 설명하여 줄 것을 은행에 요구할 수 있습니다\\n\\n\\n\\n 은행은 다음 어느 하나에 해당하는 경우에는 금융소비자의 요구를 거절할 수 있으며, 기초정보가 정정\\n\\n삭제되었더라도 신용상태의 개선이 경미한 경우, 재평가결과는 기존과 동일할 수 있습니다\\n\\n\\n\\n 자동화평가가 아닌 방식으로 개인의 신용을 평가하는 경우\\n\\n 관련 법령에 특별한 규정이 있거나 법령상 의무를 준수하기 위하여 불가피한 경우\\n\\n 해당 금융소비자의 요구에 따르게 되면 금융거래 등 상거래관계의 설정 및 유지 등이 곤란한 경우\\n\\n 금융소비자가 정정 또는 삭제 요청한 내용이 사실과 다른 경우\\n\\n 정당한 사유 없이 동일한 금융거래 등에 대해 3회 이상 반복적으로 대응권을 행사하는 경우4\\n\\n 대출금리 산정방식 및 결정요인\\n\\n 대출금리 산정방식은 크게 고정금리, 변동금리로 구분되며, 고객님이 신청하신 상품은 [ 고정금리 변동금리,  ] 상품입니다\\n\\n\\n\\n 대출금리 결정(변동) 요인\\n\\n 대출금리는 은행의 자금조달금리에 각종 원가요소와 목표수익률(마진) 등을 반영하여 결정됩니다\\n\\n\\n\\n 대출금리는 변동기준을 명확히 표시하기 위해 일반적으로 대출 기준금리와 가산금리의 합으로 표시됩니다\\n\\n \\n \\n \\n\\x0c\\n\\n\\n\\n 금융소비자는 「신용정보의 이용 및 보호에 관한 법률」제36조의2에 따라 자동화 평가의 결과, 자동화 평가의 주요 기준, 자동화 평가의 평가에 이용된 기초정보 등에 대해 설명하여 줄 것을 은행에 요구할 수 있습니다\\n\\n\\n\\n 은행은 다음 어느 하나에 해당하는 경우에는 금융소비자의 요구를 거절할 수 있으며, 기초정보가 정정\\n\\n삭제되었더라도 신용상태의 개선이 경미한 경우, 재평가결과는 기존과 동일할 수 있습니다\\n\\n\\n\\n 자동화평가가 아닌 방식으로 개인의 신용을 평가하는 경우\\n\\n 관련 법령에 특별한 규정이 있거나 법령상 의무를 준수하기 위하여 불가피한 경우\\n\\n 해당 금융소비자의 요구에 따르게 되면 금융거래 등 상거래관계의 설정 및 유지 등이 곤란한 경우\\n\\n 금융소비자가 정정 또는 삭제 요청한 내용이 사실과 다른 경우\\n\\n 정당한 사유 없이 동일한 금융거래 등에 대해 3회 이상 반복적으로 대응권을 행사하는 경우4\\n\\n 대출금리 산정방식 및 결정요인\\n\\n 대출금리 산정방식은 크게 고정금리, 변동금리로 구분되며, 고객님이 신청하신 상품은 [ 고정금리 변동금리,  ] 상품입니다\\n\\n\\n\\n 대출금리 결정(변동) 요인\\n\\n 대출금리는 은행의 자금조달금리에 각종 원가요소와 목표수익률(마진) 등을 반영하여 결정됩니다\\n\\n\\n\\n 대출금리는 변동기준을 명확히 표시하기 위해 일반적으로 대출 기준금리와 가산금리의 합으로 표시됩니다\\n\\n \\n \\n \\n\\x0c'"
      ]
     },
     "execution_count": 7,
     "metadata": {},
     "output_type": "execute_result"
    }
   ],
   "source": [
    "test = funcsfortool.retrieve()\n",
    "test.run(\"개인신용평가대응권\")"
   ]
  },
  {
   "cell_type": "code",
   "execution_count": 8,
   "metadata": {},
   "outputs": [
    {
     "data": {
      "text/plain": [
       "'☞ 서울보증보험 보증서 담보 대출 등 외부기관 위탁대출 및 기타 협약대출의 경우 채무조정요청권 신청 대상에서 제외됩니다\\n\\n\\n\\n 채무조정요청권\\n\\n 채무조정요청권 대상 상품 여부 :   대상비대상\\n\\n 채무자는 실직, 폐업, 질병으로 인해 불가피한 재무적 곤란 사유가 발생하여 정상적인 채무변제가 곤란한 경우, 은행이 정한 바에 따라 관련 증빙자료를 제출하고 채무조정을 신청할 수 있습니다\\n\\n\\n\\n 은행은 그 적정성 여부를 심사하여 채무조정 신청 대상이 아니거나, 상환능력 심사결과 채무조정이 어려운 경우에는 채무조정을 거절할 수 있으며, 심사결과에 대해 채무자에게 곧 통보합니다\\n\\n\\n\\n 채무지정권(변제 채무 순서 지정)\\n\\n 상환 또는 상계해야 할 채무가 여러 개인 경우로서, 보유하신 예치금으로 채무전액을 없애기 부족한 때에는 채무자인 고객이 지정하는 순서에 따라 채무를 상환 또는 상계하기로 합니다\\n\\n\\n\\n 단, 채무자의 지정이 이미 연체된 채무 대신 기한미도래 채무 또는 무담보 채무 대신 유담보 채무에 충당하는 등 은행의 채권보전상 지장이 생길 염려가 있는것일 때에 는, 은행은 지체없이 이의를 표시하고 은행이 상환 또는 상계할 채무를 바꾸어 지정할 수 있습니다\\n\\n이 설명서는 은행여신거래기본약관의 이자, 지연배상금 및 비용(약정이자, 중도상환해약금, 부대비용 등)에 대한 이해를 돕기 위하여 약정 전에 제공되는 자료로서, 상담일 이후 신청금액, 신용도, 설정금액 등 변경에 의하여 일부 내용이 달라질 수 있습니다\\n\\n본 상품은 토스뱅크 개인여신스쿼드에서 개발 및 관리하는 상품입니다\\n\\n\\n상품가입 후 의문사항 또는 불만(민원)이 있을 경우 고객센터(1661-7654), 또는 인터넷 홈페이지(tossbank\\n\\ncom)에 문의할 수 있고, 분쟁이 발생한 경우\\n에는 금융감독원(국번없이 1332) 등에 도움을 요청할 수 있습니다\\n\\n  \\n\\x0c\\n\\n☞ 서울보증보험 보증서 담보 대출 등 외부기관 위탁대출 및 기타 협약대출의 경우 채무조정요청권 신청 대상에서 제외됩니다\\n\\n\\n\\n 채무조정요청권\\n\\n 채무조정요청권 대상 상품 여부 :   대상비대상\\n\\n 채무자는 실직, 폐업, 질병으로 인해 불가피한 재무적 곤란 사유가 발생하여 정상적인 채무변제가 곤란한 경우, 은행이 정한 바에 따라 관련 증빙자료를 제출하고 채무조정을 신청할 수 있습니다\\n\\n\\n\\n 은행은 그 적정성 여부를 심사하여 채무조정 신청 대상이 아니거나, 상환능력 심사결과 채무조정이 어려운 경우에는 채무조정을 거절할 수 있으며, 심사결과에 대해 채무자에게 곧 통보합니다\\n\\n\\n\\n 채무지정권(변제 채무 순서 지정)\\n\\n 상환 또는 상계해야 할 채무가 여러 개인 경우로서, 보유하신 예치금으로 채무전액을 없애기 부족한 때에는 채무자인 고객이 지정하는 순서에 따라 채무를 상환 또는 상계하기로 합니다\\n\\n\\n\\n 단, 채무자의 지정이 이미 연체된 채무 대신 기한미도래 채무 또는 무담보 채무 대신 유담보 채무에 충당하는 등 은행의 채권보전상 지장이 생길 염려가 있는것일 때에 는, 은행은 지체없이 이의를 표시하고 은행이 상환 또는 상계할 채무를 바꾸어 지정할 수 있습니다\\n\\n이 설명서는 은행여신거래기본약관의 이자, 지연배상금 및 비용(약정이자, 중도상환해약금, 부대비용 등)에 대한 이해를 돕기 위하여 약정 전에 제공되는 자료로서, 상담일 이후 신청금액, 신용도, 설정금액 등 변경에 의하여 일부 내용이 달라질 수 있습니다\\n\\n본 상품은 토스뱅크 개인여신스쿼드에서 개발 및 관리하는 상품입니다\\n\\n\\n상품가입 후 의문사항 또는 불만(민원)이 있을 경우 고객센터(1661-7654), 또는 인터넷 홈페이지(tossbank\\n\\ncom)에 문의할 수 있고, 분쟁이 발생한 경우\\n에는 금융감독원(국번없이 1332) 등에 도움을 요청할 수 있습니다\\n\\n  \\n\\x0c\\n\\n☞ 서울보증보험 보증서 담보 대출 등 외부기관 위탁대출 및 기타 협약대출의 경우 채무조정요청권 신청 대상에서 제외됩니다\\n\\n\\n\\n 채무조정요청권\\n\\n 채무조정요청권 대상 상품 여부 :   대상비대상\\n\\n 채무자는 실직, 폐업, 질병으로 인해 불가피한 재무적 곤란 사유가 발생하여 정상적인 채무변제가 곤란한 경우, 은행이 정한 바에 따라 관련 증빙자료를 제출하고 채무조정을 신청할 수 있습니다\\n\\n\\n\\n 은행은 그 적정성 여부를 심사하여 채무조정 신청 대상이 아니거나, 상환능력 심사결과 채무조정이 어려운 경우에는 채무조정을 거절할 수 있으며, 심사결과에 대해 채무자에게 곧 통보합니다\\n\\n\\n\\n 채무지정권(변제 채무 순서 지정)\\n\\n 상환 또는 상계해야 할 채무가 여러 개인 경우로서, 보유하신 예치금으로 채무전액을 없애기 부족한 때에는 채무자인 고객이 지정하는 순서에 따라 채무를 상환 또는 상계하기로 합니다\\n\\n\\n\\n 단, 채무자의 지정이 이미 연체된 채무 대신 기한미도래 채무 또는 무담보 채무 대신 유담보 채무에 충당하는 등 은행의 채권보전상 지장이 생길 염려가 있는것일 때에 는, 은행은 지체없이 이의를 표시하고 은행이 상환 또는 상계할 채무를 바꾸어 지정할 수 있습니다\\n\\n이 설명서는 은행여신거래기본약관의 이자, 지연배상금 및 비용(약정이자, 중도상환해약금, 부대비용 등)에 대한 이해를 돕기 위하여 약정 전에 제공되는 자료로서, 상담일 이후 신청금액, 신용도, 설정금액 등 변경에 의하여 일부 내용이 달라질 수 있습니다\\n\\n본 상품은 토스뱅크 개인여신스쿼드에서 개발 및 관리하는 상품입니다\\n\\n\\n상품가입 후 의문사항 또는 불만(민원)이 있을 경우 고객센터(1661-7654), 또는 인터넷 홈페이지(tossbank\\n\\ncom)에 문의할 수 있고, 분쟁이 발생한 경우\\n에는 금융감독원(국번없이 1332) 등에 도움을 요청할 수 있습니다\\n\\n  \\n\\x0c'"
      ]
     },
     "execution_count": 8,
     "metadata": {},
     "output_type": "execute_result"
    }
   ],
   "source": [
    "test.run(\"자료열람요구권\")"
   ]
  },
  {
   "cell_type": "code",
   "execution_count": 9,
   "metadata": {},
   "outputs": [
    {
     "data": {
      "text/plain": [
       "functools.partial(<function _get_relevant_documents at 0x0000013867D64E00>, retriever=VectorStoreRetriever(tags=['Chroma', 'HuggingFaceEmbeddings'], vectorstore=<langchain_community.vectorstores.chroma.Chroma object at 0x0000013866F029D0>, search_kwargs={'k': 3}), document_prompt=PromptTemplate(input_variables=['page_content'], template='{page_content}'), document_separator='\\n\\n')"
      ]
     },
     "execution_count": 9,
     "metadata": {},
     "output_type": "execute_result"
    }
   ],
   "source": [
    "test.func"
   ]
  },
  {
   "cell_type": "code",
   "execution_count": 17,
   "metadata": {},
   "outputs": [],
   "source": [
    "import time\n",
    "now = time\n",
    "time1 = str(now.localtime().tm_year)\n",
    "time2 = str(now.localtime().tm_mon)\n",
    "time3 = str(now.localtime().tm_mday)\n",
    "    "
   ]
  },
  {
   "cell_type": "code",
   "execution_count": 18,
   "metadata": {},
   "outputs": [
    {
     "data": {
      "text/plain": [
       "'2024'"
      ]
     },
     "execution_count": 18,
     "metadata": {},
     "output_type": "execute_result"
    }
   ],
   "source": [
    "time1"
   ]
  },
  {
   "cell_type": "code",
   "execution_count": 19,
   "metadata": {},
   "outputs": [
    {
     "data": {
      "text/plain": [
       "'12'"
      ]
     },
     "execution_count": 19,
     "metadata": {},
     "output_type": "execute_result"
    }
   ],
   "source": [
    "time2"
   ]
  },
  {
   "cell_type": "code",
   "execution_count": 20,
   "metadata": {},
   "outputs": [
    {
     "data": {
      "text/plain": [
       "'2'"
      ]
     },
     "execution_count": 20,
     "metadata": {},
     "output_type": "execute_result"
    }
   ],
   "source": [
    "time3"
   ]
  },
  {
   "cell_type": "code",
   "execution_count": 21,
   "metadata": {},
   "outputs": [
    {
     "data": {
      "text/plain": [
       "'neug1232024122'"
      ]
     },
     "execution_count": 21,
     "metadata": {},
     "output_type": "execute_result"
    }
   ],
   "source": [
    "user_id = 'neug123'\n",
    "user_id + time1 + time2 + time3"
   ]
  },
  {
   "cell_type": "code",
   "execution_count": null,
   "metadata": {},
   "outputs": [],
   "source": []
  }
 ],
 "metadata": {
  "kernelspec": {
   "display_name": "nlp",
   "language": "python",
   "name": "python3"
  },
  "language_info": {
   "codemirror_mode": {
    "name": "ipython",
    "version": 3
   },
   "file_extension": ".py",
   "mimetype": "text/x-python",
   "name": "python",
   "nbconvert_exporter": "python",
   "pygments_lexer": "ipython3",
   "version": "3.11.7"
  }
 },
 "nbformat": 4,
 "nbformat_minor": 2
}
