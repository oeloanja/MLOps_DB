{
 "cells": [
  {
   "cell_type": "code",
   "execution_count": 2,
   "metadata": {},
   "outputs": [],
   "source": [
    "import VectorStore\n",
    "# from Retriever import retriever\n",
    "import DocLoader\n",
    "from retriever import Retriever\n"
   ]
  },
  {
   "cell_type": "code",
   "execution_count": 3,
   "metadata": {},
   "outputs": [],
   "source": [
    "docs = DocLoader.docload('C:/Users/user/Downloads/가계대출상품설명서.pdf')"
   ]
  },
  {
   "cell_type": "code",
   "execution_count": 4,
   "metadata": {},
   "outputs": [],
   "source": [
    "vec_db = VectorStore.get_vectorstore(docs, collection = 'testdb', dir_path = './MLOps_chatbot')"
   ]
  },
  {
   "cell_type": "code",
   "execution_count": 5,
   "metadata": {},
   "outputs": [
    {
     "name": "stderr",
     "output_type": "stream",
     "text": [
      "c:\\Users\\user\\anaconda3\\envs\\nlp\\Lib\\site-packages\\langchain_core\\_api\\deprecation.py:139: LangChainDeprecationWarning: The class `Chroma` was deprecated in LangChain 0.2.9 and will be removed in 0.4. An updated version of the class exists in the langchain-chroma package and should be used instead. To use it run `pip install -U langchain-chroma` and import as `from langchain_chroma import Chroma`.\n",
      "  warn_deprecated(\n"
     ]
    }
   ],
   "source": [
    "# retriever = retriever(vec_db=vec_db, searched = 3)\n",
    "retriever_obj = Retriever(dir_path = './MLOps_chatbot', collection_name = 'testdb', searched = 1)\n",
    "retriever2 =  retriever_obj.as_retriever()"
   ]
  },
  {
   "cell_type": "code",
   "execution_count": null,
   "metadata": {},
   "outputs": [],
   "source": [
    "# searched_result = retriever.get_docs(query = '개인신용평가대응권이 뭐야?')\n",
    "# searched_result"
   ]
  },
  {
   "cell_type": "code",
   "execution_count": null,
   "metadata": {},
   "outputs": [],
   "source": [
    "# type(searched_result)"
   ]
  },
  {
   "cell_type": "code",
   "execution_count": 6,
   "metadata": {},
   "outputs": [
    {
     "name": "stderr",
     "output_type": "stream",
     "text": [
      "c:\\Users\\user\\anaconda3\\envs\\nlp\\Lib\\site-packages\\langchain_core\\_api\\deprecation.py:139: LangChainDeprecationWarning: The method `BaseRetriever.get_relevant_documents` was deprecated in langchain-core 0.1.46 and will be removed in 0.3.0. Use invoke instead.\n",
      "  warn_deprecated(\n"
     ]
    },
    {
     "data": {
      "text/plain": [
       "[Document(metadata={'page': '2', 'source': 'C:/Users/user/Downloads/가계대출상품설명서.pdf'}, page_content='기타비용 : 항목  금액 원\\n\\n 채무자의 채무불이행으로 인해 발생하는 비용은 은행여신거래기본약관 제4조(비용의 부담)에 의거하여 채무자가 부담하여야 합니다\\n\\n\\n\\n 대출계약 철회권을 행사하는 경우 대출금액과 이자에 더하여 은행이 부담한 저당권 설정 관련 비용과 인지세 등 제세공과금, 보증료 또는 보험료는 「금융소비자보호에관한법률」 제46조 및 은행여신거래기본약관 제13조에 정하는 바에 따라 채무자가 부담하여야 합니다\\n\\n3\\n\\n 금융소비자의 권리가\\n\\n 대출계약 철회권\\n\\n 일반금융소비자는 계약체결일, 계약서류를 받은 날, 대출금 수령일 중 가장 늦은 날로부터 14일(기간의 말일이 휴일인 경우 다음 영업일) 내에 계약을 철회할 수 있습니다\\n\\n (다만, 철회권을 행사하여 효력이 발생한 이후에는 이를 취소할 수 없습니다)\\n\\n 대출 계약철회를 위해서는 모바일앱으로 은행에 대출계약 철회의 의사표시를 해야 하며, 이미 수령한 대출금과 이에 대한 이자, 대출과 관련하여 은행이 제3자에게 부담한 인지세 근저당권설정비용 등을 반환, 하여야 합니다\\n\\n\\n\\n 대출계약 철회권을 행사한 경우에는 중도해약금이 면제되며, 5영업일 이내에 해당 대출과 관련한 대출정보가 삭제됩니다\\n\\n나\\n\\n 금리인하요구권\\n\\n 금리인하 요구권 대상 상품 여부   : 대상비대상\\n\\n 금리인하요구권이란 금융소비자가 본인의 신용상태가 개선되었다고 판단되는 경우(취업\\n\\n승진\\n\\n재산증가\\n\\n개인신용평점 상승 등) 은행에 자신이 적용받는 금리인하를 요구할 수 있는 권리(은행법 제30 조의2)를 말합니다\\n\\n\\n\\n 금리인하요구권은 모바일앱을 통해 신청할 수 있으며, 은행은 금리인하를 요구하는 고객에게 신용상태의 개선을 확인하기 위해 필요한 증빙자료를 공공기관으로부터 전자적 방식으로 제출 받을 수 있습니다\\n\\n\\n\\n 신용상태의 개선이 경미하거나 신용상태의 변동이 금리에 영향을 미치지 않는 상품에 대해 금리인하를 요구한 경우, 고객의 금리인하 요구는 수용되지 않을 수 있습니다\\n\\n\\n\\n 은행은 금리인하 요구를 받고, 심사를 위한 증빙자료 제출이 완료되면 즉시 금리인하 요구 수용 여부 및 그 사유를 알려드립니다\\n\\n다\\n\\n 위법계약해지권\\n\\n 금융회사가 「금융소비자 보호에 관한 법률」상 다음의 의무를 위반하여 대출계약을 체결한 경우, 금융소비자는 해당 계약을 위약금 등  수수료 부과 없이 해지할 수 있습니다\\n\\n\\n\\n 적합하지 아니하다고 인정되는 대출계약의 체결을 권유한 경우(법 제17조제3항 위반)\\n\\n 대출상품이 적정하지 않은 경우에도 사실을 알리지 않거나 확인받지 않은 경우(법 제18조제2항 위반)\\n\\n 설명의무를 이행하지 않은 경우(법 제19조제1항\\n\\n제3항 위반)\\n\\n 불공정영업행위를 한 경우(법 제20조제1항 위반)\\n\\n 부당권유행위를 한 경우(법 제21조 위반)\\n\\n 금융소비자는 위법계약해지권 행사를 위해 계약체결일로부터 5년 이내 범위에서 법 위반사실을 안 날로부터 1년 이내에 계약해지요구서에 위반사실을 입증하는 서류를 첨부하여 서면으로 계약의 해지를 요구하여야 합니다\\n\\n라\\n\\n 자료열람요구권\\n\\n 금융소비자는 분쟁조정 또는 소송의 수행 등 권리구제를 위한 목적으로 은행이 기록 및 유지\\n\\n관리하는 다음의 자료에 대한 열람(사본 및 청취 포함)을 요구할 수 있습니다\\n\\n\\n\\n 계약체결에 관한 자료, 계약의 이행에 관한 자료, 금융상품 등에 관한 광고 자료, 금융소비자의 권리행사에 관한 자료, 내부통제기준의 제정 및 운영 등에 관한 자료, 업무 위탁에 관한 자료\\n\\n 은행은 금융소비자의 분쟁조정 신청내역 또는 소송제기 등의 목적 및 열람의 범위가 기재된 열람요구서로 열람을 요구받은 날로부터 8일 이내에 금융소비자가 해당 자료를 열람할 수 있게 합니다\\n\\n\\n\\n 은행은 법령, 제 3자의 이익 침해, 영업비밀의 침해 등의 사유가 있는 경우 이를 금융소비자에게 알리고  자료 열람을 제한하거나 거절 할 수 있습니다\\n\\n마\\n\\n 개인신용평가대응권\\n\\n 개인신용평가대응권이란 개인인 금융소비자가 자동화평가*에 따른 개인신용평가 결과 및 주요기준 등의 설명과 자동화평가 결과의 산출에 유리하다고 판단되는 정보를 제출 또는 기초정보의 정정\\n\\n삭제\\n\\n재산출을 요구할 수 있는 권리 (「신용정보의 이용 및 보호에 관한 법률」제36조의2)를 말합니다\\n\\n* 은행 임직원이 평가 업무에 관여하지 아니하고 컴퓨터 등 정보처리장치로만 개인신용정보 및 그 밖의 정보를 처리하여 개인인 금융소비자를 평가하는 행위  \\n \\n\\x0c')]"
      ]
     },
     "execution_count": 6,
     "metadata": {},
     "output_type": "execute_result"
    }
   ],
   "source": [
    "searched = retriever2.get_relevant_documents('개인신용평가대응권이 뭐야?')\n",
    "searched"
   ]
  },
  {
   "cell_type": "code",
   "execution_count": 2,
   "metadata": {},
   "outputs": [],
   "source": [
    "docs2 = DocLoader.dirloader('./financial_vocab')\n",
    "vec_db2 = VectorStore.get_vectorstore(docs2, collection = 'findb', dir_path = './fin_vocab')"
   ]
  },
  {
   "cell_type": "code",
   "execution_count": 3,
   "metadata": {},
   "outputs": [
    {
     "name": "stderr",
     "output_type": "stream",
     "text": [
      "d:\\anaconda_envs\\mlops\\Lib\\site-packages\\langchain_core\\_api\\deprecation.py:139: LangChainDeprecationWarning: The class `Chroma` was deprecated in LangChain 0.2.9 and will be removed in 0.4. An updated version of the class exists in the langchain-chroma package and should be used instead. To use it run `pip install -U langchain-chroma` and import as `from langchain_chroma import Chroma`.\n",
      "  warn_deprecated(\n"
     ]
    }
   ],
   "source": [
    "ret_obj = Retriever(dir_path = './fin_vocab', collection_name = 'findb', searched = 1)"
   ]
  },
  {
   "cell_type": "code",
   "execution_count": 4,
   "metadata": {},
   "outputs": [],
   "source": [
    "ret2 = ret_obj.as_retriever()"
   ]
  },
  {
   "cell_type": "code",
   "execution_count": 5,
   "metadata": {},
   "outputs": [
    {
     "name": "stderr",
     "output_type": "stream",
     "text": [
      "d:\\anaconda_envs\\mlops\\Lib\\site-packages\\langchain_core\\_api\\deprecation.py:139: LangChainDeprecationWarning: The method `BaseRetriever.get_relevant_documents` was deprecated in langchain-core 0.1.46 and will be removed in 0.3.0. Use invoke instead.\n",
      "  warn_deprecated(\n"
     ]
    },
    {
     "data": {
      "text/plain": [
       "[Document(metadata={'source': 'financial_vocab\\\\financial_vocab3.txt'}, page_content='자료열람요구권\\n- 금융소비자는 분쟁조정 또는 소송의 수행 등 권리구제를 위한 목적으로 은행이 기록 및 유지\\n\\n관리하는 다음의 자료에 대한 열람(사본 및 청취 포함)을 요구할 수 있습니다\\n\\n\\n    - 계약체결에 관한 자료, 계약의 이행에 관한 자료, 금융상품 등에 대한 자료, 금융소비자의 권리행사에 관한 자료, 내부통제기준의 제정 및 운영 등에 관한 자료, 업무 위탁에 관한 자료\\n- 은행은 금융소비자의 분쟁조정 신청내역 또는 소송제기 등의 목적 및 열람의 범위가 기재된 열람요구서로 열람을 요구받은 날로부터 8일 이내에 금융소비자가 해당 자료를 열람할 수 있게 합니다\\n\\n\\n    - 은행은 법령, 제 3자의 이익 침해, 영업비밀의 침해 등의 사유가 있는 경우 이를 금융소비자에게 알리고 자료 열람을 제한하거나 거절할 수 있습니다\\n\\n개인신용평가대응권\\n- 개인인 금융소비자가 자동화평가에 따른 개인신용평가 결과 및 주요기준 등의 설명과 자동화 평가 결과의 산출에 유리하다고 판단되는 정보를 제출 또는 기초정보의 정정\\n\\n삭제\\n\\n재산출을 요구할 수 있는 권리(신용정보의 이용 및 보호에 관한 법률 제36조의2)를 말합니다\\n- 금융소비자는 신용정보의 이용 및 보호에 관한 법률 제36조의2에 따라 자동화 평가의 결과, 자동화 평가의 주요 기준, 자동화 평가의 평가에 이용된 기초정보 등에 대해 설명하여 줄 것을 은행에 요구할 수 있습니다\\n\\n\\n- 은행은 다음 어느 하나에 해당하는 경우에는 금융소비자의 요구를 거절할 수 있으며, 기초정보가  정정\\n\\n삭제되었더라도 신용상태의 개선이 경미한 경우, 재평가결과는 기존과 동일할 수 있습니다\\n\\n\\n    - 자동화평가가 아닌 방식으로 개인의 신용을 평가하는 경우\\n    - 관련 법령에 특별한 규정이 있거나 법령상 의무를 준수하기 위하여 불가피한 경우\\n    - 해당 금융소비자의 요구에 따르게 되면 금융거래 등 상거래관계의 설정 및 유지 등이 곤란한 경우\\n    - 금융소비자가 정정 또는 삭제 요청한 내용이 사실과 다른 경우\\n    - 정당한 사유 없이 동일한 금융거래 등에 대해 3회 이상 반복적으로 대응권을 행사하는 경우')]"
      ]
     },
     "execution_count": 5,
     "metadata": {},
     "output_type": "execute_result"
    }
   ],
   "source": [
    "result = ret2.get_relevant_documents('자료열람요구권이 뭐야?')\n",
    "result"
   ]
  },
  {
   "cell_type": "code",
   "execution_count": null,
   "metadata": {},
   "outputs": [],
   "source": []
  }
 ],
 "metadata": {
  "kernelspec": {
   "display_name": "mlops",
   "language": "python",
   "name": "python3"
  },
  "language_info": {
   "codemirror_mode": {
    "name": "ipython",
    "version": 3
   },
   "file_extension": ".py",
   "mimetype": "text/x-python",
   "name": "python",
   "nbconvert_exporter": "python",
   "pygments_lexer": "ipython3",
   "version": "3.11.7"
  }
 },
 "nbformat": 4,
 "nbformat_minor": 2
}
