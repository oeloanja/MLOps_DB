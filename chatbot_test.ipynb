{
 "cells": [
  {
   "cell_type": "code",
   "execution_count": 1,
   "metadata": {},
   "outputs": [
    {
     "name": "stderr",
     "output_type": "stream",
     "text": [
      "c:\\Users\\user\\anaconda3\\envs\\nlp\\Lib\\site-packages\\sentence_transformers\\cross_encoder\\CrossEncoder.py:11: TqdmWarning: IProgress not found. Please update jupyter and ipywidgets. See https://ipywidgets.readthedocs.io/en/stable/user_install.html\n",
      "  from tqdm.autonotebook import tqdm, trange\n",
      "c:\\Users\\user\\anaconda3\\envs\\nlp\\Lib\\site-packages\\langchain_core\\_api\\deprecation.py:139: LangChainDeprecationWarning: The class `Chroma` was deprecated in LangChain 0.2.9 and will be removed in 0.4. An updated version of the class exists in the langchain-chroma package and should be used instead. To use it run `pip install -U langchain-chroma` and import as `from langchain_chroma import Chroma`.\n",
      "  warn_deprecated(\n"
     ]
    }
   ],
   "source": [
    "import VectorStore\n",
    "vecdb = VectorStore.load_vectorstore('./MLOps_chatbot', 'testdb')"
   ]
  },
  {
   "cell_type": "code",
   "execution_count": 2,
   "metadata": {},
   "outputs": [],
   "source": [
    "from Retriever import retriever"
   ]
  },
  {
   "cell_type": "code",
   "execution_count": 3,
   "metadata": {},
   "outputs": [],
   "source": [
    "chain_retriever = retriever(vecdb, 3).get_retriever()"
   ]
  },
  {
   "cell_type": "code",
   "execution_count": 6,
   "metadata": {},
   "outputs": [],
   "source": [
    "from transformers import AutoTokenizer, AutoModelForCausalLM\n",
    "from Chatbot import chatbot_chain"
   ]
  },
  {
   "cell_type": "code",
   "execution_count": 7,
   "metadata": {},
   "outputs": [
    {
     "name": "stderr",
     "output_type": "stream",
     "text": [
      "Loading checkpoint shards: 100%|██████████| 2/2 [00:23<00:00, 11.66s/it]\n"
     ]
    }
   ],
   "source": [
    "model_id = \"Bllossom/llama-3.2-Korean-Bllossom-3B\"\n",
    "llm_model = AutoModelForCausalLM.from_pretrained(model_id, cache_dir = './LLM')\n",
    "llm_tokenizer = AutoTokenizer.from_pretrained(model_id, cache_dir = './TOKENIZER')"
   ]
  },
  {
   "cell_type": "code",
   "execution_count": 8,
   "metadata": {},
   "outputs": [],
   "source": [
    "test_chatbot_chain = chatbot_chain(model = llm_model, tokenizer = llm_tokenizer)\n",
    "rag_chatbot = test_chatbot_chain.get_chain_with_rag(dir_path='./MLOps_chatbot', collection='testdb', k = 3)"
   ]
  },
  {
   "cell_type": "code",
   "execution_count": 9,
   "metadata": {},
   "outputs": [
    {
     "name": "stdout",
     "output_type": "stream",
     "text": [
      "') \n",
      "AI: 마이너스 통장은 마이너스 통장 대출의 특징을 나타내는 용어입니다. 마이너스 통장 대출은 체크카드 결제 계좌로 결제를 하기 때문에, 예금 잔액이 부족하면 마이너스 통장 대출로 결제금액을 지급하고 대출사용에 따른 이자가 발생합니다. 이로 인해 마이너스 통장 대출은 다른 대출과 다르게 금리와 이자 부담이 높을 수 있습니다. 따라서 마이너스 통장 대출을 체크카드 결제 계좌로 이용할 경우, 예금 잔액이 부족할 경우 마이너스 통장 대출로 결제금액이 지급되고 대출사용에 따른 이자가 발생할 수 있습니다. \n",
      "\n",
      "예를 들어, A씨가 체크카드를 이용한 결제 계좌에 1000만원이 부족하게 되면, A씨는 1000만원을 마이너스 통장 대출로 결제하게 됩니다. 이로 인해 A씨는 1000만원의 이자 부담을 받게 됩니다. 따라서, 마이너스 통장 대출은 체크카드 결제 계좌로 이용할 경우, 예금 잔액이 부족할 경우 대출사용에 따른 이자가 발생할 수 있습니다. \n",
      "\n",
      "따라서, 마이너스 통장 대출을 체크카드 결제 계좌로 이용할 경우, 예금 잔액이 부족할 경우 마이너스 통장 대출로 결제금액을 지급하고 대출사용에 따른 이자가 발생할 수 있습니다. 이로 인해, 마이너스 통장 대출은 다른 대출과 다르게 금리와 이자 부담이 높을 수 있습니다. \n",
      "\n",
      "마이너스 통장 대출을 체크카드 결제 계좌로 이용할 경우, 예금 잔액이 부족할 경우 대출사용에 따른 이자가 발생할 수 있습니다. 따라서, 마이너스 통장 대출을 체크카드 결제 계좌로 이용할 경우, 예금 잔액이 부족할 경우 대출사용에 따른 이자가 발생할 수 있습니다. 이로 인해, 마이너스 통장 대출은 다른 대\n"
     ]
    }
   ],
   "source": [
    "result = rag_chatbot.invoke(\"마이너스통장이 뭐야?\")\n",
    "print(result)"
   ]
  },
  {
   "cell_type": "code",
   "execution_count": null,
   "metadata": {},
   "outputs": [],
   "source": []
  }
 ],
 "metadata": {
  "kernelspec": {
   "display_name": "nlp",
   "language": "python",
   "name": "python3"
  },
  "language_info": {
   "codemirror_mode": {
    "name": "ipython",
    "version": 3
   },
   "file_extension": ".py",
   "mimetype": "text/x-python",
   "name": "python",
   "nbconvert_exporter": "python",
   "pygments_lexer": "ipython3",
   "version": "3.11.7"
  }
 },
 "nbformat": 4,
 "nbformat_minor": 2
}
